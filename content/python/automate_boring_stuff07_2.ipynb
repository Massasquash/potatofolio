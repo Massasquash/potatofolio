{
 "cells": [
  {
   "cell_type": "markdown",
   "metadata": {},
   "source": [
    "# はじめに"
   ]
  },
  {
   "cell_type": "markdown",
   "metadata": {},
   "source": [
    "この記事はO’Reilly「退屈なことはPythonにやらせよう」をベースに学習した内容を残した備忘録です。　　\n",
    "このページでは、演習問題でやったことを残しておきます。"
   ]
  },
  {
   "cell_type": "markdown",
   "metadata": {},
   "source": [
    "## 演習7-17"
   ]
  },
  {
   "cell_type": "markdown",
   "metadata": {},
   "source": [
    " 全ての数字と小文字にマッチする文字集合"
   ]
  },
  {
   "cell_type": "code",
   "execution_count": 1,
   "metadata": {
    "scrolled": false
   },
   "outputs": [
    {
     "data": {
      "text/plain": [
       "re.compile(r'[a-z0-9]', re.UNICODE)"
      ]
     },
     "execution_count": 1,
     "metadata": {},
     "output_type": "execute_result"
    }
   ],
   "source": [
    "import re\n",
    "\n",
    "re.compile(r'[a-z0-9]')"
   ]
  },
  {
   "cell_type": "markdown",
   "metadata": {},
   "source": [
    "## 演習7-18"
   ]
  },
  {
   "cell_type": "code",
   "execution_count": 3,
   "metadata": {},
   "outputs": [
    {
     "data": {
      "text/plain": [
       "'X drummers, X pipers, five rings, Xhens'"
      ]
     },
     "execution_count": 3,
     "metadata": {},
     "output_type": "execute_result"
    }
   ],
   "source": [
    "num_regex = re.compile(r'\\d+')\n",
    "result = num_regex.sub('X', '12 drummers, 11 pipers, five rings, 3hens')\n",
    "result"
   ]
  },
  {
   "cell_type": "markdown",
   "metadata": {},
   "source": [
    "## 演習7-20"
   ]
  },
  {
   "cell_type": "markdown",
   "metadata": {},
   "source": [
    "３桁ごとのカンマのついた数字にマッチする正規表現を書く"
   ]
  },
  {
   "cell_type": "markdown",
   "metadata": {},
   "source": [
    "- 1〜3桁の数字があり、その後カンマの後に3桁の数字が続くのが、0回以上出現する"
   ]
  },
  {
   "cell_type": "code",
   "execution_count": 59,
   "metadata": {},
   "outputs": [],
   "source": [
    "import re\n",
    "\n",
    "# 最初に数値が1〜3個、以下存在は自由で、カンマ、数値3個...\n",
    "num_with_comma = re.compile(r'''\n",
    "    ^\\d{1,3}\n",
    "    (,\\d{3})+$\n",
    "    ''', re.VERBOSE)"
   ]
  },
  {
   "cell_type": "code",
   "execution_count": 90,
   "metadata": {
    "scrolled": true
   },
   "outputs": [
    {
     "name": "stdout",
     "output_type": "stream",
     "text": [
      "12,345\n"
     ]
    }
   ],
   "source": [
    "print(num_with_comma.search('私の所持金は12,345です').group())"
   ]
  },
  {
   "cell_type": "code",
   "execution_count": 160,
   "metadata": {},
   "outputs": [],
   "source": [
    "# 上の例だと、全文が数字文字列の場合にしかマッチしない。文章の途中でもマッチできるコード\n",
    "num_with_comma = re.compile(r'''\n",
    "    (?<!\\d)\n",
    "    \\d{1,3}\n",
    "    (,\\d{3})+\n",
    "    (?!\\d)\n",
    "    ''', re.VERBOSE)"
   ]
  },
  {
   "cell_type": "markdown",
   "metadata": {},
   "source": [
    "#### メモ\n",
    "- 上記コードの参考記事　https://teratail.com/questions/85890"
   ]
  },
  {
   "cell_type": "code",
   "execution_count": 65,
   "metadata": {},
   "outputs": [
    {
     "name": "stdout",
     "output_type": "stream",
     "text": [
      "123\n"
     ]
    }
   ],
   "source": [
    "# 1〜3桁の数字にマッチ\n",
    "num_regexp = re.compile(r'\\d{1,3}')\n",
    "print(num_regexp.search('12345').group())"
   ]
  },
  {
   "cell_type": "code",
   "execution_count": 161,
   "metadata": {},
   "outputs": [
    {
     "name": "stdout",
     "output_type": "stream",
     "text": [
      "123\n"
     ]
    }
   ],
   "source": [
    "# 上の例だと、3桁を超える場合でもマッチしてしまう\n",
    "# 桁数が合わないとマッチしないようにするには、^と$で行の始めと終わりのマッチを見るのがシンプル\n",
    "num_regexp = re.compile(r'^\\d{1,3}$')\n",
    "print(num_regexp.search('123').group())"
   ]
  },
  {
   "cell_type": "code",
   "execution_count": 162,
   "metadata": {},
   "outputs": [
    {
     "ename": "AttributeError",
     "evalue": "'NoneType' object has no attribute 'group'",
     "output_type": "error",
     "traceback": [
      "\u001b[0;31m---------------------------------------------------------------------------\u001b[0m",
      "\u001b[0;31mAttributeError\u001b[0m                            Traceback (most recent call last)",
      "\u001b[0;32m<ipython-input-162-f0e31216d05e>\u001b[0m in \u001b[0;36m<module>\u001b[0;34m\u001b[0m\n\u001b[0;32m----> 1\u001b[0;31m \u001b[0mprint\u001b[0m\u001b[0;34m(\u001b[0m\u001b[0mnum_with_comma\u001b[0m\u001b[0;34m.\u001b[0m\u001b[0msearch\u001b[0m\u001b[0;34m(\u001b[0m\u001b[0;34m'12345'\u001b[0m\u001b[0;34m)\u001b[0m\u001b[0;34m.\u001b[0m\u001b[0mgroup\u001b[0m\u001b[0;34m(\u001b[0m\u001b[0;34m)\u001b[0m\u001b[0;34m)\u001b[0m\u001b[0;34m\u001b[0m\u001b[0;34m\u001b[0m\u001b[0m\n\u001b[0m",
      "\u001b[0;31mAttributeError\u001b[0m: 'NoneType' object has no attribute 'group'"
     ]
    }
   ],
   "source": [
    "print(num_with_comma.search('12345').group())"
   ]
  },
  {
   "cell_type": "code",
   "execution_count": 54,
   "metadata": {},
   "outputs": [],
   "source": [
    "# 以下だと、12345を検索した時に123がヒットしてしまう\n",
    "num_with_comma = re.compile(r'''\n",
    "    \\d{1,3}\n",
    "    (,\\d{3})*\n",
    "    ''', re.VERBOSE)"
   ]
  },
  {
   "cell_type": "markdown",
   "metadata": {},
   "source": [
    "## 演習7-21"
   ]
  },
  {
   "cell_type": "markdown",
   "metadata": {},
   "source": [
    "姓が「Nakamoto」である人のフルネームにマッチする正規表現。\n",
    "- 名は姓の前にあり、姓名とも1単語で大文字から始まるとする\n",
    "- 名前がなかったり、前の単語に文字以外（Mr. でピリオドなど）が使われているのは省く\n",
    "\n",
    "条件を正規表現で表すと\n",
    "- 名の先頭は大文字の英字\n",
    "- 英字0つ以上の文字列（記号、数字は除く）\n",
    "- 半角スペース1つ\n",
    "- Nakamoto"
   ]
  },
  {
   "cell_type": "code",
   "execution_count": 101,
   "metadata": {},
   "outputs": [],
   "source": [
    "import re\n",
    "\n",
    "nakamoto_regexp = re.compile(r'[A-Z]\\w*[　Nakamoto]')"
   ]
  },
  {
   "cell_type": "code",
   "execution_count": 103,
   "metadata": {},
   "outputs": [
    {
     "name": "stdout",
     "output_type": "stream",
     "text": [
      "Satoshi　Nakamoto\n"
     ]
    }
   ],
   "source": [
    "print(nakamura_regexp.search('Satoshi　Nakamoto').group())"
   ]
  },
  {
   "cell_type": "code",
   "execution_count": 107,
   "metadata": {},
   "outputs": [
    {
     "ename": "AttributeError",
     "evalue": "'NoneType' object has no attribute 'group'",
     "output_type": "error",
     "traceback": [
      "\u001b[0;31m---------------------------------------------------------------------------\u001b[0m",
      "\u001b[0;31mAttributeError\u001b[0m                            Traceback (most recent call last)",
      "\u001b[0;32m<ipython-input-107-743b7d68bddb>\u001b[0m in \u001b[0;36m<module>\u001b[0;34m\u001b[0m\n\u001b[0;32m----> 1\u001b[0;31m \u001b[0mprint\u001b[0m\u001b[0;34m(\u001b[0m\u001b[0mnakamura_regexp\u001b[0m\u001b[0;34m.\u001b[0m\u001b[0msearch\u001b[0m\u001b[0;34m(\u001b[0m\u001b[0;34m'satoshi nakamoto'\u001b[0m\u001b[0;34m)\u001b[0m\u001b[0;34m.\u001b[0m\u001b[0mgroup\u001b[0m\u001b[0;34m(\u001b[0m\u001b[0;34m)\u001b[0m\u001b[0;34m)\u001b[0m\u001b[0;34m\u001b[0m\u001b[0;34m\u001b[0m\u001b[0m\n\u001b[0m",
      "\u001b[0;31mAttributeError\u001b[0m: 'NoneType' object has no attribute 'group'"
     ]
    }
   ],
   "source": [
    "print(nakamura_regexp.search('satoshi nakamoto').group())"
   ]
  },
  {
   "cell_type": "code",
   "execution_count": 104,
   "metadata": {},
   "outputs": [
    {
     "ename": "AttributeError",
     "evalue": "'NoneType' object has no attribute 'group'",
     "output_type": "error",
     "traceback": [
      "\u001b[0;31m---------------------------------------------------------------------------\u001b[0m",
      "\u001b[0;31mAttributeError\u001b[0m                            Traceback (most recent call last)",
      "\u001b[0;32m<ipython-input-104-3ef11e7c868d>\u001b[0m in \u001b[0;36m<module>\u001b[0;34m\u001b[0m\n\u001b[0;32m----> 1\u001b[0;31m \u001b[0mprint\u001b[0m\u001b[0;34m(\u001b[0m\u001b[0mnakamura_regexp\u001b[0m\u001b[0;34m.\u001b[0m\u001b[0msearch\u001b[0m\u001b[0;34m(\u001b[0m\u001b[0;34m'Mr.　Nakamoto'\u001b[0m\u001b[0;34m)\u001b[0m\u001b[0;34m.\u001b[0m\u001b[0mgroup\u001b[0m\u001b[0;34m(\u001b[0m\u001b[0;34m)\u001b[0m\u001b[0;34m)\u001b[0m\u001b[0;34m\u001b[0m\u001b[0;34m\u001b[0m\u001b[0m\n\u001b[0m",
      "\u001b[0;31mAttributeError\u001b[0m: 'NoneType' object has no attribute 'group'"
     ]
    }
   ],
   "source": [
    "print(nakamura_regexp.search('Mr.　Nakamoto').group())"
   ]
  },
  {
   "cell_type": "code",
   "execution_count": 105,
   "metadata": {},
   "outputs": [
    {
     "ename": "AttributeError",
     "evalue": "'NoneType' object has no attribute 'group'",
     "output_type": "error",
     "traceback": [
      "\u001b[0;31m---------------------------------------------------------------------------\u001b[0m",
      "\u001b[0;31mAttributeError\u001b[0m                            Traceback (most recent call last)",
      "\u001b[0;32m<ipython-input-105-49e3955d3b06>\u001b[0m in \u001b[0;36m<module>\u001b[0;34m\u001b[0m\n\u001b[0;32m----> 1\u001b[0;31m \u001b[0mprint\u001b[0m\u001b[0;34m(\u001b[0m\u001b[0mnakamura_regexp\u001b[0m\u001b[0;34m.\u001b[0m\u001b[0msearch\u001b[0m\u001b[0;34m(\u001b[0m\u001b[0;34m'Nakamoto'\u001b[0m\u001b[0;34m)\u001b[0m\u001b[0;34m.\u001b[0m\u001b[0mgroup\u001b[0m\u001b[0;34m(\u001b[0m\u001b[0;34m)\u001b[0m\u001b[0;34m)\u001b[0m\u001b[0;34m\u001b[0m\u001b[0;34m\u001b[0m\u001b[0m\n\u001b[0m",
      "\u001b[0;31mAttributeError\u001b[0m: 'NoneType' object has no attribute 'group'"
     ]
    }
   ],
   "source": [
    "print(nakamura_regexp.search('Nakamoto').group())"
   ]
  },
  {
   "cell_type": "markdown",
   "metadata": {},
   "source": [
    "## 7-22"
   ]
  },
  {
   "cell_type": "markdown",
   "metadata": {},
   "source": [
    "以下のような文とマッチする正規表現。大文字と小文字を区別しない。\n",
    "- 最初の単語が AliceかBobかCarol\n",
    "- ２番目の単語が eatsかpetsかthrows\n",
    "- ３番目の単語が applesかcatsかbaseballs\n",
    "- 最後はピリオドで終わる文  "
   ]
  },
  {
   "cell_type": "code",
   "execution_count": 110,
   "metadata": {},
   "outputs": [],
   "source": [
    "import re\n",
    "\n",
    "sentence_regexp = re.compile(r'(Alice|Bob|Carol) (eats|pets|throws) (apples|cats|baseballs)\\.')"
   ]
  },
  {
   "cell_type": "code",
   "execution_count": 114,
   "metadata": {},
   "outputs": [
    {
     "name": "stdout",
     "output_type": "stream",
     "text": [
      "Alice pets cats.\n"
     ]
    }
   ],
   "source": [
    "print(sentence_regexp.search('Alice pets cats.').group())"
   ]
  },
  {
   "cell_type": "markdown",
   "metadata": {},
   "source": [
    "#### メモ\n",
    "- ドットを正規表現で表すには、バックスラッシュでエスケープする必要がある"
   ]
  },
  {
   "cell_type": "markdown",
   "metadata": {},
   "source": [
    "## 演習プロジェクト"
   ]
  },
  {
   "cell_type": "markdown",
   "metadata": {},
   "source": [
    "### 7.18.1 強いパスワードの検出"
   ]
  },
  {
   "cell_type": "markdown",
   "metadata": {},
   "source": [
    "引数に渡されたパスワード文字列が強いかどうかを正規表現を用いて確認する関数を作る。 \n",
    "\n",
    "強いパスワードの条件　　\n",
    "- ８文字以上\n",
    "- 大文字と小文字を含む\n",
    "- １つ以上の数字を含む"
   ]
  },
  {
   "cell_type": "code",
   "execution_count": 165,
   "metadata": {},
   "outputs": [],
   "source": [
    "# 全体のスクリプト\n",
    "import re\n",
    "\n",
    "PASSWORD = '1234ab44'\n",
    "\n",
    "def check_password(password):\n",
    "    \"\"\"パスワード文字列の強さを判定\n",
    "    \n",
    "    Arguments:\n",
    "        password: パスワード文字列\n",
    "    Returns:\n",
    "        判定結果を文字列で返す\n",
    "    \"\"\"\n",
    "    # 8桁以上あるかの判定\n",
    "    if not pass_regex.search(PASSWORD):\n",
    "        return 'No...PASSWORD should have the above 8 characters.'\n",
    "\n",
    "    pattern1 = re.compile(r'[a-z]')\n",
    "    pattern2 = re.compile(r'[A-Z]')\n",
    "    pattern3 = re.compile(r'\\d')\n",
    "    \n",
    "    # 大文字・小文字、１つ以上の数字を含む判定\n",
    "    if all((pattern1.search(PASSWORD),\n",
    "            pattern2.search(PASSWORD),\n",
    "            pattern3.search(PASSWORD))):\n",
    "        return 'OK! This PASSWORD is strong!'\n",
    "    else:\n",
    "        return 'No...PASSWORD should be strong.'"
   ]
  },
  {
   "cell_type": "markdown",
   "metadata": {},
   "source": [
    "#### メモ\n",
    "- もっと短くできそう"
   ]
  },
  {
   "cell_type": "markdown",
   "metadata": {},
   "source": [
    "### 7.18.2 正規表現を用いたstrip()メソッド"
   ]
  },
  {
   "cell_type": "markdown",
   "metadata": {},
   "source": [
    "- 文字列を引数にとり、文字列メソッドのstrip()と同等の動きをする関数を書く  \n",
    "- デフォルトでは、文字列の先頭と末尾から空白文字を除去する\n",
    "- 追加の文字列引数があれば、それを文字列の先頭と末尾から除去する"
   ]
  },
  {
   "cell_type": "code",
   "execution_count": 185,
   "metadata": {},
   "outputs": [],
   "source": [
    "import re\n",
    "\n",
    "def like_strip(string, chars=None):\n",
    "    \"\"\"    \n",
    "    Arguments:\n",
    "       string: 処理したい文字列\n",
    "    Returns:\n",
    "        処理した後の文字列\n",
    "    \"\"\"\n",
    "    if chars:\n",
    "        delete_str = re.compile(chars)\n",
    "    else:\n",
    "        delete_str = re.compile(r'\\s')        \n",
    "    return delete_str.sub('', string)"
   ]
  },
  {
   "cell_type": "code",
   "execution_count": 186,
   "metadata": {},
   "outputs": [
    {
     "data": {
      "text/plain": [
       "'ああああああ'"
      ]
     },
     "execution_count": 186,
     "metadata": {},
     "output_type": "execute_result"
    }
   ],
   "source": [
    "like_strip( '   ああああああ     　　　')"
   ]
  },
  {
   "cell_type": "code",
   "execution_count": 187,
   "metadata": {},
   "outputs": [
    {
     "data": {
      "text/plain": [
       "'   ああああああ     \\u3000\\u3000\\u3000'"
      ]
     },
     "execution_count": 187,
     "metadata": {},
     "output_type": "execute_result"
    }
   ],
   "source": [
    "like_strip( '   ああああああ     　　　いいい', 'い')"
   ]
  },
  {
   "cell_type": "markdown",
   "metadata": {},
   "source": [
    "#### メモ"
   ]
  },
  {
   "cell_type": "markdown",
   "metadata": {},
   "source": [
    "-  `\\u3000`は全角スペースを表すUniode文字"
   ]
  },
  {
   "cell_type": "code",
   "execution_count": 180,
   "metadata": {},
   "outputs": [
    {
     "name": "stdout",
     "output_type": "stream",
     "text": [
      "Help on built-in function strip:\n",
      "\n",
      "strip(chars=None, /) method of builtins.str instance\n",
      "    Return a copy of the string with leading and trailing whitespace removed.\n",
      "    \n",
      "    If chars is given and not None, remove characters in chars instead.\n",
      "\n"
     ]
    }
   ],
   "source": [
    "help('aaa'.strip)"
   ]
  },
  {
   "cell_type": "code",
   "execution_count": 193,
   "metadata": {},
   "outputs": [],
   "source": [
    "# より短く書けるが、仮引数の初期値はNoneの方が自然な感じがする\n",
    "def like_strip_2(string, chars='\\s'):\n",
    "    \"\"\"    \n",
    "    Arguments:\n",
    "       string: 処理したい文字列\n",
    "    Returns:\n",
    "        処理した後の文字列\n",
    "    \"\"\"\n",
    "    delete_str = re.compile(r'\\s')        \n",
    "    return delete_str.sub('', string)"
   ]
  },
  {
   "cell_type": "code",
   "execution_count": 197,
   "metadata": {},
   "outputs": [],
   "source": [
    "# 初期値をNoneのまま変えずに、論理演算子を使って短くできた\n",
    "def like_strip_3(string, chars=None):\n",
    "    \"\"\"    \n",
    "    Arguments:\n",
    "       string: 処理したい文字列\n",
    "    Returns:\n",
    "        処理した後の文字列\n",
    "    \"\"\"\n",
    "    delete_str = re.compile(chars or r'\\s')\n",
    "    return delete_str.sub('', string)"
   ]
  },
  {
   "cell_type": "code",
   "execution_count": 200,
   "metadata": {},
   "outputs": [
    {
     "name": "stdout",
     "output_type": "stream",
     "text": [
      "re.compile('\\\\s')\n",
      "re.compile('何らかの文字列')\n"
     ]
    }
   ],
   "source": [
    "# delete_strの挙動\n",
    "print(re.compile(None or r'\\s'))\n",
    "print(re.compile('何らかの文字列' or r'\\s'))"
   ]
  },
  {
   "cell_type": "code",
   "execution_count": null,
   "metadata": {},
   "outputs": [],
   "source": []
  }
 ],
 "metadata": {
  "frontmatter": {
   "categories": [
    "退屈Python"
   ],
   "date": "2021-01-30T21:00",
   "title": "[退屈Python]7章 正規表現によるパターンマッチング　演習"
  },
  "kernelspec": {
   "display_name": "Python 3",
   "language": "python",
   "name": "python3"
  },
  "language_info": {
   "codemirror_mode": {
    "name": "ipython",
    "version": 3
   },
   "file_extension": ".py",
   "mimetype": "text/x-python",
   "name": "python",
   "nbconvert_exporter": "python",
   "pygments_lexer": "ipython3",
   "version": "3.8.6"
  }
 },
 "nbformat": 4,
 "nbformat_minor": 4
}
